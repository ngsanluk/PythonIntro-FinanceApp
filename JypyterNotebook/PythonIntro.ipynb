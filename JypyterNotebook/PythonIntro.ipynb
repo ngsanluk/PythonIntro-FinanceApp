{
 "cells": [
  {
   "cell_type": "markdown",
   "metadata": {},
   "source": [
    "# HELLO, WORLD!\n",
    "\n",
    "Type the following command to display `Hello, World!` greeting\n",
    "\n",
    "`print()` is a built-in Python function to output to console\n",
    "\n",
    "```\n",
    "print(\"Hello, World!\")\n",
    "```\n",
    "To run run a CELL\n",
    "- Press `▶ Run` Button\n",
    "- HOLD `SHIFT` + PRESS ```ENTER```\n",
    "\n",
    "It should print out:\n",
    "\n",
    "```\n",
    "Hello, World!\n",
    "```"
   ]
  },
  {
   "cell_type": "code",
   "execution_count": 1,
   "metadata": {},
   "outputs": [
    {
     "name": "stdout",
     "output_type": "stream",
     "text": [
      "Hello, World!\n"
     ]
    }
   ],
   "source": []
  },
  {
   "cell_type": "markdown",
   "metadata": {},
   "source": [
    "# 'A string'\n",
    "# \"Also a string\"\n",
    "To quote a string, single quote or double quote is either fine\n",
    "```\n",
    "print('Hello again, World!')\n",
    "```"
   ]
  },
  {
   "cell_type": "code",
   "execution_count": 2,
   "metadata": {},
   "outputs": [
    {
     "name": "stdout",
     "output_type": "stream",
     "text": [
      "Hello again, World!\n"
     ]
    }
   ],
   "source": []
  },
  {
   "cell_type": "markdown",
   "metadata": {},
   "source": [
    "# To Run a Cell\n",
    "- Press ```▶ Run``` button\n",
    "- ```SHIFT``` + ```ENTER```"
   ]
  },
  {
   "cell_type": "markdown",
   "metadata": {},
   "source": [
    "# Variables\n",
    "A variable can have a short name (like ```x``` and ```y```) or a more descriptive name (```age```, ```carname```, ```total_volume```).\n",
    "```\n",
    "x = 10\n",
    "y = 20\n",
    "customer_name = \"Johnny\"\n",
    "```\n",
    "- after declaring a variable, type variable in an empty cell will output the value\n",
    "- or use ```print()```"
   ]
  },
  {
   "cell_type": "code",
   "execution_count": 3,
   "metadata": {},
   "outputs": [],
   "source": []
  },
  {
   "cell_type": "code",
   "execution_count": null,
   "metadata": {},
   "outputs": [],
   "source": []
  },
  {
   "cell_type": "markdown",
   "metadata": {},
   "source": [
    "# Varibles Naming Rules\n",
    "- A variable name must start with a **letter** or the **underscore character**\n",
    "- A variable name CANNOT start with a number\n",
    "- A variable name can only contain alpha-numeric characters and underscores (```A-z```, ```0-9```, and``` _``` )\n",
    "- Variable names are case-sensitive (```age```, ```Age``` and ```AGE``` are three different variables)\n",
    "\n",
    "### Tasks:\n",
    "- Declare a variable named ```home_address``` and assign \"Hong Kong\" as the initial value"
   ]
  },
  {
   "cell_type": "code",
   "execution_count": 4,
   "metadata": {},
   "outputs": [],
   "source": []
  },
  {
   "cell_type": "code",
   "execution_count": 5,
   "metadata": {},
   "outputs": [
    {
     "data": {
      "text/plain": [
       "'Hong  Kong'"
      ]
     },
     "execution_count": 5,
     "metadata": {},
     "output_type": "execute_result"
    }
   ],
   "source": []
  },
  {
   "cell_type": "markdown",
   "metadata": {},
   "source": [
    "# Legal Variable Names\n",
    "```\n",
    "myname = \"John\"\n",
    "my_name = \"John\"\n",
    "_my_name = \"John\"\n",
    "myName = \"John\"\n",
    "MYNAME = \"John\"\n",
    "myName2 = \"John\"\n",
    "```\n",
    "Try typing the above to the cell below"
   ]
  },
  {
   "cell_type": "code",
   "execution_count": null,
   "metadata": {},
   "outputs": [],
   "source": []
  },
  {
   "cell_type": "markdown",
   "metadata": {},
   "source": [
    "# Illegal Variable Names\n",
    "```\n",
    "2myname = \"John\"\n",
    "my-name = \"John\"\n",
    "my name = \"John\"\n",
    "```\n",
    "Try typing the above to the cell below"
   ]
  },
  {
   "cell_type": "code",
   "execution_count": null,
   "metadata": {},
   "outputs": [],
   "source": []
  },
  {
   "cell_type": "markdown",
   "metadata": {},
   "source": [
    "# Cell Types\n",
    "- Code\n",
    "- Markdown\n"
   ]
  },
  {
   "cell_type": "code",
   "execution_count": null,
   "metadata": {},
   "outputs": [],
   "source": []
  },
  {
   "cell_type": "markdown",
   "metadata": {},
   "source": [
    "# Comments\n",
    "Start your lines with #\n",
    "Example:\n",
    "\n",
    "```# This is a comment```\n",
    "\n",
    "n = 100 ```# This is also a comment```\n",
    "\n",
    "If you type above to a cell, it will stay there, but no code will be execution\n",
    "- Comments can be used to explain Python code.\n",
    "- Comments can be used to make the code more readable.\n",
    "- Comments can be used to prevent execution when testing code.\n",
    "- Python does not really have a syntax for multi line comments."
   ]
  },
  {
   "cell_type": "code",
   "execution_count": 7,
   "metadata": {},
   "outputs": [],
   "source": []
  },
  {
   "cell_type": "markdown",
   "metadata": {},
   "source": [
    "# Use ```print()``` to output value of variable\n",
    "Example:\n",
    "```\n",
    "print(message)\n",
    "print(\"Message is: \" + message)\n",
    "print(\"123\"+ \"456\");\n",
    "print(\"123\", \"456\");\n",
    "```"
   ]
  },
  {
   "cell_type": "code",
   "execution_count": 10,
   "metadata": {},
   "outputs": [
    {
     "name": "stdout",
     "output_type": "stream",
     "text": [
      "This \n",
      "is a multiple line\n",
      "string.\n",
      "123 456\n"
     ]
    }
   ],
   "source": []
  },
  {
   "cell_type": "markdown",
   "metadata": {},
   "source": [
    "# ```str()``` function\n",
    "Convert a number to string\n",
    "```\n",
    "n = 100\n",
    "print(\"The number is \" + str(n))\n",
    "print(\"The number is\", n)\n",
    "```"
   ]
  },
  {
   "cell_type": "code",
   "execution_count": 11,
   "metadata": {},
   "outputs": [
    {
     "name": "stdout",
     "output_type": "stream",
     "text": [
      "The number is 100\n",
      "The number is 100\n"
     ]
    }
   ],
   "source": []
  },
  {
   "cell_type": "code",
   "execution_count": 12,
   "metadata": {},
   "outputs": [
    {
     "name": "stdout",
     "output_type": "stream",
     "text": [
      "My name is James. James Bond\n"
     ]
    }
   ],
   "source": []
  },
  {
   "cell_type": "markdown",
   "metadata": {},
   "source": [
    "# Python Data Types\n",
    "- Text Type:\t```str```\n",
    "- Numeric Types:\t```int```, ```float```, ```complex```\n",
    "- Sequence Types:\t```list```, ```tuple```, ```range```\n",
    "- Mapping Type:\t```dict```\n",
    "- Set Types:\t```set```, ```frozenset```\n",
    "- Boolean Type:\t```bool```\n",
    "- Binary Types:\t```bytes```, ```bytearray```, ```memoryview```"
   ]
  },
  {
   "cell_type": "code",
   "execution_count": 16,
   "metadata": {},
   "outputs": [
    {
     "name": "stdout",
     "output_type": "stream",
     "text": [
      "20.0\n"
     ]
    }
   ],
   "source": []
  },
  {
   "cell_type": "markdown",
   "metadata": {},
   "source": [
    "# ```type()``` function\n",
    "You can get the data type of any object by using the type() function:\n",
    "```\n",
    "x = 100\n",
    "y = 20.5\n",
    "my_name = \"James Bond\"\n",
    "type(x)\n",
    "type(my_name)\n",
    "print(type(my_name))\n",
    "```"
   ]
  },
  {
   "cell_type": "code",
   "execution_count": null,
   "metadata": {},
   "outputs": [],
   "source": []
  },
  {
   "cell_type": "markdown",
   "metadata": {},
   "source": [
    "# Setting the Data Type\n",
    "In Python, the data type is set when you assign a value to a variable:\n",
    "```\n",
    "x = \"Hello World\"\t# This is a str\t\n",
    "x = 20\t# This is a int\t\n",
    "x = 20.5\t# This is a float\t\n",
    "x = 1j\t# complex\t\n",
    "x = [\"apple\", \"banana\", \"cherry\"]\t# This is a list\t\n",
    "x = (\"apple\", \"banana\", \"cherry\")\t# This is a tuple\t\n",
    "x = range(6)\t# This is a range\t\n",
    "x = {\"name\" : \"John\", \"age\" : 36}\t# This is a dict\t\n",
    "x = {\"apple\", \"banana\", \"cherry\"}\t# This is a set\n",
    "x = True\t# This is a bool\t\n",
    "```"
   ]
  },
  {
   "cell_type": "code",
   "execution_count": 18,
   "metadata": {},
   "outputs": [],
   "source": []
  },
  {
   "cell_type": "markdown",
   "metadata": {},
   "source": [
    "# Setting the Specific Data Type\n",
    "If you want to specify the data type, you can use the following constructor functions:\n",
    "\n",
    "Constructor is a OOP concept\n",
    "\n",
    "Examples:\n",
    "```\n",
    "x = str(\"Hello World\")\t# a str\t\n",
    "x = int(20)\t# a int\t\n",
    "x = float(20.5)\t# a float\t\n",
    "x = complex(1j)\t# a complex\t\n",
    "x = list((\"apple\", \"banana\", \"cherry\"))\t# a list\t\n",
    "x = tuple((\"apple\", \"banana\", \"cherry\"))\t# a tuple\t\n",
    "x = range(6)\t# a range\t\n",
    "x = dict(name=\"John\", age=36)\t# a dict\t\n",
    "x = set((\"apple\", \"banana\", \"cherry\"))\t# a set\t\n",
    "x = frozenset((\"apple\", \"banana\", \"cherry\"))\t# a frozenset\t\n",
    "x = bool(5)\t# a bool\t\n",
    "x = bytes(5)\t# a bytes\t\n",
    "x = bytearray(5)\t# a bytearray\t\n",
    "x = memoryview(bytes(5))\t# a memoryview\n",
    "```"
   ]
  },
  {
   "cell_type": "code",
   "execution_count": 20,
   "metadata": {},
   "outputs": [
    {
     "name": "stdout",
     "output_type": "stream",
     "text": [
      "('apple', 'banana', 'cherry')\n"
     ]
    }
   ],
   "source": []
  },
  {
   "cell_type": "markdown",
   "metadata": {},
   "source": [
    "# Python Numbers\n",
    "- ```int```\n",
    "- ```float```\n",
    "- ```complex```\n",
    "\n",
    "Examples:\n",
    "```\n",
    "x = 1    # int\n",
    "y = 2.8  # float\n",
    "z = 1j   # complex\n",
    "\n",
    "```"
   ]
  },
  {
   "cell_type": "code",
   "execution_count": 21,
   "metadata": {},
   "outputs": [
    {
     "data": {
      "text/plain": [
       "2"
      ]
     },
     "execution_count": 21,
     "metadata": {},
     "output_type": "execute_result"
    }
   ],
   "source": []
  },
  {
   "cell_type": "markdown",
   "metadata": {},
   "source": [
    "# int\n",
    "Int, or integer, is a whole number, positive or negative, without decimals, of unlimited length.\n",
    "```\n",
    "x = 1\n",
    "y = 35656222554887711\n",
    "z = -3255522\n",
    "\n",
    "print(type(x))\n",
    "print(type(y))\n",
    "print(type(z))\n",
    "```"
   ]
  },
  {
   "cell_type": "code",
   "execution_count": 24,
   "metadata": {},
   "outputs": [
    {
     "name": "stdout",
     "output_type": "stream",
     "text": [
      "<class 'int'>\n"
     ]
    }
   ],
   "source": []
  },
  {
   "cell_type": "markdown",
   "metadata": {},
   "source": [
    "# float\n",
    "Float, or \"floating point number\" is a number, positive or negative, containing one or more decimals.\n",
    "\n",
    "```\n",
    "x = 1.10\n",
    "y = 1.0\n",
    "z = -35.59\n",
    "\n",
    "print(type(x))\n",
    "print(type(y))\n",
    "print(type(z))\n",
    "```"
   ]
  },
  {
   "cell_type": "code",
   "execution_count": 25,
   "metadata": {},
   "outputs": [
    {
     "name": "stdout",
     "output_type": "stream",
     "text": [
      "<class 'float'>\n",
      "<class 'float'>\n",
      "<class 'float'>\n"
     ]
    }
   ],
   "source": []
  },
  {
   "cell_type": "code",
   "execution_count": null,
   "metadata": {},
   "outputs": [],
   "source": []
  },
  {
   "cell_type": "markdown",
   "metadata": {},
   "source": [
    "# Type Conversion\n",
    "Convert from one type to another:\n",
    "```\n",
    "x = 1    # int\n",
    "y = 2.8  # float\n",
    "z = 1j   # complex\n",
    "\n",
    "# convert from int to float:\n",
    "a = float(x)\n",
    "\n",
    "# convert from float to int:\n",
    "b = int(y)\n",
    "\n",
    "# convert from int to complex:\n",
    "c = complex(x)\n",
    "```\n"
   ]
  },
  {
   "cell_type": "code",
   "execution_count": 29,
   "metadata": {},
   "outputs": [
    {
     "name": "stdout",
     "output_type": "stream",
     "text": [
      "1.0\n"
     ]
    }
   ],
   "source": []
  },
  {
   "cell_type": "markdown",
   "metadata": {},
   "source": [
    "# Random Number\n",
    "Python does not have a random() function to make a random number, but Python has a built-in module called random that can be used to make random numbers:\n",
    "\n",
    "Import the random module, and display a random number between 1 and 9:\n",
    "```\n",
    "import random\n",
    "print(random.randrange(1, 10))\n",
    "print(random.random())\n",
    "```\n",
    "\n",
    "User `COMMAND` (Mac) / `CTRL` (Windows) + `ENTER` to run and stay at a cell"
   ]
  },
  {
   "cell_type": "code",
   "execution_count": 30,
   "metadata": {},
   "outputs": [],
   "source": []
  },
  {
   "cell_type": "code",
   "execution_count": 49,
   "metadata": {},
   "outputs": [
    {
     "name": "stdout",
     "output_type": "stream",
     "text": [
      "2\n",
      "0.47539773210657676\n"
     ]
    }
   ],
   "source": []
  },
  {
   "cell_type": "markdown",
   "metadata": {},
   "source": [
    "# use tab key for code completion\n",
    "after typing ```random.``` prese ```TAB``` key for code completion"
   ]
  },
  {
   "cell_type": "code",
   "execution_count": 41,
   "metadata": {},
   "outputs": [
    {
     "data": {
      "text/plain": [
       "0.10568609074419233"
      ]
     },
     "execution_count": 41,
     "metadata": {},
     "output_type": "execute_result"
    }
   ],
   "source": []
  },
  {
   "cell_type": "markdown",
   "metadata": {},
   "source": [
    "# Python String\n",
    "String literals in python are surrounded by either single quotation marks, or double quotation marks.\n",
    "\n",
    "```'hello'``` is the same as ```\"hello\"```.\n",
    "\n",
    "You can display a string literal with the print() function:\n",
    "\n",
    "```\n",
    "print(\"Hello\")\n",
    "print('Hello')\n",
    "```"
   ]
  },
  {
   "cell_type": "code",
   "execution_count": 51,
   "metadata": {},
   "outputs": [
    {
     "name": "stdout",
     "output_type": "stream",
     "text": [
      "Hello\n"
     ]
    }
   ],
   "source": []
  },
  {
   "cell_type": "markdown",
   "metadata": {},
   "source": [
    "# Strings are Arrays\n",
    "- Like many other popular programming languages, strings in Python are arrays of bytes representing unicode characters.\n",
    "- Square brackets can be used to access elements of the string.\n",
    "Example:\n",
    "```\n",
    "s = \"ABCDEFG\"\n",
    "print(s[2])\n",
    "for c in s:\n",
    "    print(c)\n",
    "```"
   ]
  },
  {
   "cell_type": "code",
   "execution_count": 55,
   "metadata": {},
   "outputs": [
    {
     "name": "stdout",
     "output_type": "stream",
     "text": [
      "C\n",
      "A\n",
      "B\n",
      "C\n",
      "D\n",
      "E\n",
      "F\n",
      "G\n"
     ]
    }
   ],
   "source": []
  },
  {
   "cell_type": "markdown",
   "metadata": {},
   "source": [
    "# Slicing\n",
    "- You can return a range of characters by using the slice syntax.\n",
    "- Specify the start index and the end index, separated by a colon, to return a part of the string.\n",
    "Example:\n",
    "```\n",
    "s = \"ABCDEFG\"\n",
    "print(s[0:1]) # A\n",
    "print(s[0:-1]) # ABCDEF\n",
    "print(s[0:]) # ABCDEFT\n",
    "print(s[-2:-1]) # F\n",
    "print(s[-1:]) # G\n",
    "print(s[:-2]) # ABCDE\n",
    "```"
   ]
  },
  {
   "cell_type": "code",
   "execution_count": 56,
   "metadata": {},
   "outputs": [
    {
     "name": "stdout",
     "output_type": "stream",
     "text": [
      "A\n",
      "ABCDEF\n",
      "ABCDEFG\n",
      "F\n",
      "G\n",
      "ABCDE\n"
     ]
    }
   ],
   "source": []
  },
  {
   "cell_type": "code",
   "execution_count": 57,
   "metadata": {},
   "outputs": [
    {
     "name": "stdout",
     "output_type": "stream",
     "text": [
      "ABCDE\n"
     ]
    }
   ],
   "source": [
    "print(s[:-2])"
   ]
  },
  {
   "cell_type": "markdown",
   "metadata": {},
   "source": [
    "# ```len()```\n",
    "The len() function returns the length of a string:\n",
    "```\n",
    "s = \"ABCDEFG\"\n",
    "length = len(s)\n",
    "print(length)\n",
    "```"
   ]
  },
  {
   "cell_type": "code",
   "execution_count": 58,
   "metadata": {},
   "outputs": [
    {
     "name": "stdout",
     "output_type": "stream",
     "text": [
      "7\n"
     ]
    }
   ],
   "source": []
  },
  {
   "cell_type": "markdown",
   "metadata": {},
   "source": [
    "# String Methods\n",
    "- ```strip()``` method removes any whitespace from the beginning or the end\n",
    "- ```lower()``` method returns the string in lower case\n",
    "- ```upper()``` method returns the string in upper case:\n",
    "- ```replace()``` method replaces a string with another string\n",
    "- ```split()``` method splits the string into substrings if it finds instances of the separator\n",
    "\n",
    "**Note**: above functions returns a new string, instead, process in place\n",
    "```\n",
    "s = \" ABCDEFG,HIJKLMN,OPQRST,UVWXYZ\"\n",
    "s.strip()\n",
    "print(s.replace(\"A\", \"X\"))\n",
    "print(s)\n",
    "s.split(\",\")\n",
    "```"
   ]
  },
  {
   "cell_type": "code",
   "execution_count": 62,
   "metadata": {},
   "outputs": [
    {
     "name": "stdout",
     "output_type": "stream",
     "text": [
      " XBCDEFG,HIJKLMN,OPQRST,UVWXYZ\n",
      " ABCDEFG,HIJKLMN,OPQRST,UVWXYZ\n"
     ]
    },
    {
     "data": {
      "text/plain": [
       "[' ABCDEFG', 'HIJKLMN', 'OPQRST', 'UVWXYZ']"
      ]
     },
     "execution_count": 62,
     "metadata": {},
     "output_type": "execute_result"
    }
   ],
   "source": []
  },
  {
   "cell_type": "markdown",
   "metadata": {},
   "source": [
    "# More Python String Methods\n",
    "\n",
    "- ```capitalize()```\tConverts the first character to upper case\n",
    "- ```casefold()```\tConverts string into lower case\n",
    "- ```center()```\tReturns a centered string\n",
    "- ```count()```\tReturns the number of times a specified value occurs in a string\n",
    "- ```encode()```\tReturns an encoded version of the string\n",
    "- ```endswith()```\tReturns true if the string ends with the specified value\n",
    "- ```expandtabs()```\tSets the tab size of the string\n",
    "- ```find()```\tSearches the string for a specified value and returns the position of where it was found\n",
    "- ```format()```\tFormats specified values in a string\n",
    "- ```format_map()```\tFormats specified values in a string\n",
    "- ```index()```\tSearches the string for a specified value and returns the position of where it was found\n",
    "- ```isalnum()```\tReturns True if all characters in the string are alphanumeric\n",
    "- ```isalpha()```\tReturns True if all characters in the string are in the alphabet\n",
    "- ```isdecimal()```\tReturns True if all characters in the string are decimals\n",
    "- ```isdigit()```\tReturns True if all characters in the string are digits\n",
    "- ```isidentifier()```\tReturns True if the string is an identifier\n",
    "- ```islower()```\tReturns True if all characters in the string are lower case\n",
    "- ```isnumeric()```\tReturns True if all characters in the string are numeric\n",
    "- ```isprintable()```\tReturns True if all characters in the string are printable\n",
    "- ```isspace()```\tReturns True if all characters in the string are whitespaces\n",
    "- ```istitle()```\tReturns True if the string follows the rules of a title\n",
    "- ```isupper()```\tReturns True if all characters in the string are upper case\n",
    "- ```join()```\tJoins the elements of an iterable to the end of the string\n",
    "- ```ljust()```\tReturns a left justified version of the string\n",
    "- ```lower()```\tConverts a string into lower case\n",
    "- ```lstrip()```\tReturns a left trim version of the string\n",
    "- ```maketrans()```\tReturns a translation table to be used in translations\n",
    "- ```partition()```\tReturns a tuple where the string is parted into three parts\n",
    "- ```replace()```\tReturns a string where a specified value is replaced with a specified value\n",
    "- ```rfind()```\tSearches the string for a specified value and returns the last position of where it was found\n",
    "- ```rindex()```\tSearches the string for a specified value and returns the last position of where it was found\n",
    "- ```rjust()```\tReturns a right justified version of the string\n",
    "- ```rpartition()```\tReturns a tuple where the string is parted into three parts\n",
    "- ```rsplit()```\tSplits the string at the specified separator, and returns a list\n",
    "- ```rstrip()```\tReturns a right trim version of the string\n",
    "- ```split()```\tSplits the string at the specified separator, and returns a list\n",
    "- ```splitlines()```\tSplits the string at line breaks and returns a list\n",
    "- ```startswith()```\tReturns true if the string starts with the specified value\n",
    "- ```strip()```\tReturns a trimmed version of the string\n",
    "- ```swapcase()```\tSwaps cases, lower case becomes upper case and vice versa\n",
    "- ```title()```\tConverts the first character of each word to upper case\n",
    "- ```translate()```\tReturns a translated string\n",
    "- ```upper()```\tConverts a string into upper case\n",
    "- ```zfill()```\tFills the string with a specified number of 0 values at the beginning- ```\n",
    "\n",
    "[https://docs.python.org/3/library/stdtypes.html#string-methods]"
   ]
  },
  {
   "cell_type": "markdown",
   "metadata": {},
   "source": [
    "# String Concatenation\n",
    "```\n",
    "first_name = \"James\"\n",
    "last_name = \"Bond\"\n",
    "print(\"My name is \" + last_name +\", \" + first_name + \" \" + last_name)\n",
    "print(\"123\", 456, \"789\")\n",
    "```"
   ]
  },
  {
   "cell_type": "code",
   "execution_count": 64,
   "metadata": {
    "scrolled": true
   },
   "outputs": [
    {
     "name": "stdout",
     "output_type": "stream",
     "text": [
      "My name is Bond, James Bond\n",
      "My name is Bond , James Bond\n"
     ]
    }
   ],
   "source": []
  },
  {
   "cell_type": "markdown",
   "metadata": {},
   "source": [
    "# String Interpolation\n",
    "```\n",
    "first_name = \"James\"\n",
    "last_name = \"Bond\"\n",
    "print(f\"My name is {first_name}. {first_name} {last_name}\")\n",
    "```"
   ]
  },
  {
   "cell_type": "code",
   "execution_count": null,
   "metadata": {},
   "outputs": [],
   "source": []
  },
  {
   "cell_type": "markdown",
   "metadata": {},
   "source": [
    "# Excape Character\n",
    "- To insert characters that are illegal in a string, use an escape character.\n",
    "- An escape character is a backslash \\ followed by the character you want to insert.\n",
    "- An example of an illegal character is a double quote inside a string that is surrounded by double quotes:\n",
    "\n",
    "**WRONG**:\n",
    "```\n",
    "txt = \"We are the so-called \"Vikings\" from the north.\"\n",
    "```\n",
    "\n",
    "**CORRECT**:\n",
    "```\n",
    "txt = \"We are the so-called \\\"Vikings\\\" from the north.\"\n",
    "```\n",
    "\n"
   ]
  },
  {
   "cell_type": "code",
   "execution_count": 65,
   "metadata": {},
   "outputs": [],
   "source": []
  },
  {
   "cell_type": "markdown",
   "metadata": {},
   "source": [
    "# Some Frequent Used Escape Codes\n",
    "- ```\\'```\tSingle Quote\t\n",
    "- ```\\\\```\tBackslash\t\n",
    "- ```\\n```\tNew Line\t\n",
    "- ```\\r```\tCarriage Return\t\n",
    "- ```\\t```\tTab\t\n",
    "- ```\\b```\tBackspace\t\n",
    "- ```\\f```\tForm Feed\t\n",
    "- ```\\ooo```\tOctal value\t\n",
    "- ```\\xhh```\tHex value\n",
    "\n",
    "**Example**:\n",
    "```\n",
    "print(\"Name:\\t\\tPeter\")\n",
    "print(\"Address:\\tHong Kong\")\n",
    "\n",
    "```"
   ]
  },
  {
   "cell_type": "code",
   "execution_count": 69,
   "metadata": {},
   "outputs": [
    {
     "name": "stdout",
     "output_type": "stream",
     "text": [
      "Name:\t\tPeter\n",
      "Address:\tHong Kong\n"
     ]
    }
   ],
   "source": []
  },
  {
   "cell_type": "markdown",
   "metadata": {},
   "source": [
    "# Boolean\n",
    "Booleans represent one of two values: ```True``` or ```False```.\n",
    "\n",
    "**Example:**\n",
    "```\n",
    "is_adult = True\n",
    "type(is_adult)\n",
    "\n",
    "```\n"
   ]
  },
  {
   "cell_type": "code",
   "execution_count": 70,
   "metadata": {},
   "outputs": [
    {
     "data": {
      "text/plain": [
       "bool"
      ]
     },
     "execution_count": 70,
     "metadata": {},
     "output_type": "execute_result"
    }
   ],
   "source": []
  },
  {
   "cell_type": "code",
   "execution_count": 71,
   "metadata": {},
   "outputs": [
    {
     "data": {
      "text/plain": [
       "bool"
      ]
     },
     "execution_count": 71,
     "metadata": {},
     "output_type": "execute_result"
    }
   ],
   "source": []
  },
  {
   "cell_type": "markdown",
   "metadata": {},
   "source": [
    "# Condition Control -  `if :`\n",
    "Python supports the usual logical conditions from mathematics:\n",
    "- Equals: ```a == b```\n",
    "- Not Equals: ```a != b```\n",
    "- Less than: ```a < b```\n",
    "- Less than or equal to: ```a <= b```\n",
    "- Greater than: ```a > b```\n",
    "- Greater than or equal to: ```a >= b```\n",
    "\n",
    "**Example:**\n",
    "```\n",
    "a = 100\n",
    "b = 200\n",
    "c = 100\n",
    "if a < b:\n",
    "    print(f\"{a} is smaller than {b}\")\n",
    "```\n",
    "\n",
    "**Note:**\n",
    "Indentation is critical\n"
   ]
  },
  {
   "cell_type": "code",
   "execution_count": 72,
   "metadata": {},
   "outputs": [
    {
     "name": "stdout",
     "output_type": "stream",
     "text": [
      "100 is smaller than 200\n"
     ]
    }
   ],
   "source": []
  },
  {
   "cell_type": "markdown",
   "metadata": {},
   "source": [
    "# Condition Control - ```if ... else```\n",
    "\n",
    "**Example**:\n",
    "```\n",
    "a = 100\n",
    "b = 200\n",
    "c = 100\n",
    "if a < b:\n",
    "    print(f\"{a} is smaller than {b}\")\n",
    "else:\n",
    "    print(f\"{a} is NOT smaller than {b}\")\n",
    "```"
   ]
  },
  {
   "cell_type": "code",
   "execution_count": 73,
   "metadata": {},
   "outputs": [
    {
     "name": "stdout",
     "output_type": "stream",
     "text": [
      "90 is smaller than 100\n"
     ]
    }
   ],
   "source": []
  },
  {
   "cell_type": "markdown",
   "metadata": {},
   "source": [
    "# Condition Control - ```if ... elif ... else```\n",
    "\n",
    "**Example**:\n",
    "```\n",
    "a = 100\n",
    "b = 200\n",
    "c = 100\n",
    "if a < b:\n",
    "    print(f\"{a} is smaller than {b}\")\n",
    "elif a==b:\n",
    "    print(f\"{a} is equals than {b}\")\n",
    "else:\n",
    "    print(f\"{a} is larger than {b}\")\n",
    "```"
   ]
  },
  {
   "cell_type": "code",
   "execution_count": 74,
   "metadata": {},
   "outputs": [
    {
     "name": "stdout",
     "output_type": "stream",
     "text": [
      "100 is smaller than 200\n"
     ]
    }
   ],
   "source": []
  },
  {
   "cell_type": "markdown",
   "metadata": {},
   "source": [
    "# Multiple Conditions\n",
    "- ```and``` keyword is a logical operator, and is used to combine conditional statements\n",
    "- ```or``` keyword is a logical operator, and is used to combine conditional statements\n",
    "\n",
    "**```and```Example**:\n",
    "```\n",
    "a = 200\n",
    "b = 33\n",
    "c = 500\n",
    "if a > b and c > a:\n",
    "  print(\"Both conditions are True\")\n",
    "```\n",
    "\n",
    "**```or```Example**:\n",
    "```\n",
    "a = 200\n",
    "b = 33\n",
    "c = 500\n",
    "if a > b or a > c:\n",
    "  print(\"At least one of the conditions is True\")\n",
    "```"
   ]
  },
  {
   "cell_type": "code",
   "execution_count": 75,
   "metadata": {},
   "outputs": [
    {
     "name": "stdout",
     "output_type": "stream",
     "text": [
      "Both conditions are True\n"
     ]
    }
   ],
   "source": []
  },
  {
   "cell_type": "markdown",
   "metadata": {},
   "source": [
    "# Nested If\n",
    "Multi level conditions\n",
    "```\n",
    "isFemale=True\n",
    "age = 18\n",
    "if isFemale:\n",
    "    if age<18:\n",
    "        print(\"20% OFF\")\n",
    "    else:\n",
    "        print(\"10% OFF\")\n",
    "else:\n",
    "    print(\"Sorry, 0% OFF\")\n",
    "```"
   ]
  },
  {
   "cell_type": "code",
   "execution_count": 77,
   "metadata": {
    "scrolled": true
   },
   "outputs": [
    {
     "name": "stdout",
     "output_type": "stream",
     "text": [
      "10% OFF\n"
     ]
    }
   ],
   "source": []
  },
  {
   "cell_type": "markdown",
   "metadata": {},
   "source": [
    "# Operators\n",
    "Operators are used to perform operations on variables and values.\n",
    "- Arithmetic operators: ```+, -, *, /, %, **, //```\n",
    "- Assignment operators: ```=, +=```\n",
    "- Comparison operators: ```==, !=, >=```\n",
    "- Logical operators: ```and, or, not```\n",
    "- Identity operators: ```is, is not```\n",
    "- Membership operators: ```in, not in```\n",
    "- Bitwise operators: ```&,|, ^, ~, <<, >>```"
   ]
  },
  {
   "cell_type": "markdown",
   "metadata": {},
   "source": [
    "# Arithmetic Operators\n",
    "\n",
    "- ```+```\tAddition\t```x + y```\n",
    "- ```-```\tSubtraction\t```x - y```\n",
    "- ```*```\tMultiplication\t```x * y```\n",
    "- ```/```\tDivision\t```x / y```\n",
    "- ```%```\tModulus\t```x % y```\n",
    "- ```**```\tExponentiation\t```x ** y```\n",
    "- ```//```\tFloor division\t```x // y```\n",
    "\n",
    "**Examples:**\n",
    "```\n",
    "x = 100\n",
    "y = 4\n",
    "x + y\n",
    "x - y\n",
    "x * y\n",
    "x / y\n",
    "x % y\n",
    "x ** y\n",
    "x // y\n",
    "```"
   ]
  },
  {
   "cell_type": "code",
   "execution_count": 82,
   "metadata": {},
   "outputs": [
    {
     "data": {
      "text/plain": [
       "25"
      ]
     },
     "execution_count": 82,
     "metadata": {},
     "output_type": "execute_result"
    }
   ],
   "source": []
  },
  {
   "cell_type": "markdown",
   "metadata": {},
   "source": [
    "# Assignment Operators\n",
    "\n",
    "- ```+```\tAddition\t```x + y```\n",
    "- ```-```\tSubtraction\t```x - y```\n",
    "- ```*```\tMultiplication\t```x * y```\n",
    "- ```/```\tDivision\t```x / y```\n",
    "- ```%```\tModulus\t```x % y```\n",
    "- ```**```\tExponentiation\t```x ** y```\n",
    "- ```//```\tFloor division\t```x // y```\n",
    "\n",
    "**Examples**:\n",
    "- ```x = 5``` \tsame to ```x = 5```\n",
    "- ```x += 3```\tsame to ```x = x + 3```\n",
    "- ```x -= 3```\tsame to ```x = x - 3```\n",
    "- ```x *= 3```\tsame to ```x = x * 3```\n",
    "- ```x /= 3```\tsame to ```x = x / 3```\n",
    "- ```x %= 3```\tsame to ```x = x % 3```\n",
    "- ```x //= 3```\tsame to ```x = x // 3```\n",
    "- ```x **= 3```\tsame to ```x = x ** 3```\n",
    "- ```x &= 3```\tsame to ```x = x & 3```\n",
    "- ```x |= 3```\tsame to ```x = x | 3```\n",
    "- ```x ^= 3```\tsame to ```x = x ^ 3```\n",
    "- ```x >>= 3```\tsame to ```x = x >> 3```\n",
    "- ```x <<= 3```\tsame to ```x = x << 3```"
   ]
  },
  {
   "cell_type": "code",
   "execution_count": 83,
   "metadata": {},
   "outputs": [
    {
     "data": {
      "text/plain": [
       "110"
      ]
     },
     "execution_count": 83,
     "metadata": {},
     "output_type": "execute_result"
    }
   ],
   "source": []
  },
  {
   "cell_type": "markdown",
   "metadata": {},
   "source": [
    "# Comparison Operators\n",
    "- Equal\t```x == y```\n",
    "- Not equal\t```x != y```\n",
    "- Greater than\t```x > y```\n",
    "- Less than\t```x < y```\n",
    "- Greater than or equal to\t```x >= y```\n",
    "- Less than or equal to\t```x <= y```\n",
    "\n"
   ]
  },
  {
   "cell_type": "markdown",
   "metadata": {},
   "source": [
    "# Logical Operators\n",
    "\n",
    "- ```and``` \tReturns True if both statements are true\t```x < 5 and  x < 10```\t\n",
    "- ```or```\tReturns True if one of the statements is true\t```x < 5 or x < 4```\t\n",
    "- ```not```\tReverse the result, returns False if the result is true\t```not(x < 5 and x < 10)```\n",
    "\n",
    "**Exercise**:\n",
    "```\n",
    "x = 100\n",
    "y = 90\n",
    "z = 80\n",
    "```\n",
    "Write codes that: when x is larger and y and z, print out \"x is the biggest\"\n",
    "\n"
   ]
  },
  {
   "cell_type": "code",
   "execution_count": 84,
   "metadata": {},
   "outputs": [
    {
     "name": "stdout",
     "output_type": "stream",
     "text": [
      "x is the biggest\n"
     ]
    }
   ],
   "source": []
  },
  {
   "cell_type": "markdown",
   "metadata": {},
   "source": [
    "# List\n",
    "- Lists are used to store multiple items in a single variable.\n",
    "- Lists are one of 4 built-in data types in Python used to store collections of data, the other 3 are **Tuple**, **Set**, and **Dictionary**, all with different qualities and usage.\n",
    "\n",
    "Lists are created using square brackets:\n",
    "\n",
    "**Example**:\n",
    "```\n",
    "students = [\"April\", \"Ben\", \"Cathy\", \"Danny\", \"Eve\"]\n",
    "print(students[0])\n",
    "print(students[-1])\n",
    "students[1] = \"Benny\"\n",
    "print(students[1:3])\n",
    "print(students[1:])\n",
    "print(students[:-2])\n",
    "print(students[0])\n",
    "print(len(students))\n",
    "```"
   ]
  },
  {
   "cell_type": "code",
   "execution_count": 85,
   "metadata": {},
   "outputs": [
    {
     "name": "stdout",
     "output_type": "stream",
     "text": [
      "April\n",
      "Eve\n",
      "April\n",
      "5\n",
      "['Benny', 'Cathy']\n"
     ]
    }
   ],
   "source": []
  },
  {
   "cell_type": "markdown",
   "metadata": {},
   "source": [
    "# Check If Item Exists\n",
    "```\n",
    "students = [\"April\", \"Ben\", \"Cathy\", \"Danny\", \"Eve\"]\n",
    "if \"April\" in students:\n",
    "  print(\"Yes, 'April' is in the list\")\n",
    "```"
   ]
  },
  {
   "cell_type": "code",
   "execution_count": 90,
   "metadata": {},
   "outputs": [
    {
     "name": "stdout",
     "output_type": "stream",
     "text": [
      "Yes, 'April' is in the list\n"
     ]
    }
   ],
   "source": []
  },
  {
   "cell_type": "markdown",
   "metadata": {},
   "source": [
    "# Change List Items\n",
    "```\n",
    "students = [\"April\", \"Ben\", \"Cathy\", \"Danny\", \"Eve\"]\n",
    "students[1:3] = [\"Benjamin\", \"Catherine\"]\n",
    "print(students)\n",
    "```"
   ]
  },
  {
   "cell_type": "code",
   "execution_count": 91,
   "metadata": {},
   "outputs": [
    {
     "name": "stdout",
     "output_type": "stream",
     "text": [
      "['April', 'Benjamin', 'Catherine', 'Cathy', 'Danny', 'Eve']\n"
     ]
    }
   ],
   "source": []
  },
  {
   "cell_type": "markdown",
   "metadata": {},
   "source": [
    "# Insert Item in the middle\n",
    "```\n",
    "students = [\"April\", \"Ben\", \"Cathy\", \"Danny\", \"Eve\"]\n",
    "students.insert(1, \"Barry\")\n",
    "print(students)\n",
    "```"
   ]
  },
  {
   "cell_type": "code",
   "execution_count": 92,
   "metadata": {},
   "outputs": [
    {
     "name": "stdout",
     "output_type": "stream",
     "text": [
      "['April', 'Barry', 'Benjamin', 'Catherine', 'Cathy', 'Danny', 'Eve']\n"
     ]
    }
   ],
   "source": []
  },
  {
   "cell_type": "markdown",
   "metadata": {},
   "source": [
    "# Append Item at the end\n",
    "```\n",
    "students = [\"April\", \"Ben\", \"Cathy\", \"Danny\", \"Eve\"]\n",
    "students.append(\"Frankie\")\n",
    "print(students)\n",
    "```"
   ]
  },
  {
   "cell_type": "code",
   "execution_count": 93,
   "metadata": {},
   "outputs": [
    {
     "name": "stdout",
     "output_type": "stream",
     "text": [
      "['April', 'Barry', 'Benjamin', 'Catherine', 'Cathy', 'Danny', 'Eve', 'Frankie']\n"
     ]
    }
   ],
   "source": []
  },
  {
   "cell_type": "markdown",
   "metadata": {},
   "source": [
    "# Remove an Item\n",
    "```\n",
    "students = [\"April\", \"Ben\", \"Cathy\", \"Danny\", \"Eve\"]\n",
    "students.remove(\"Cathy\")\n",
    "print(students)\n",
    "```"
   ]
  },
  {
   "cell_type": "code",
   "execution_count": 94,
   "metadata": {},
   "outputs": [
    {
     "name": "stdout",
     "output_type": "stream",
     "text": [
      "['April', 'Barry', 'Benjamin', 'Catherine', 'Danny', 'Eve', 'Frankie']\n"
     ]
    }
   ],
   "source": []
  },
  {
   "cell_type": "markdown",
   "metadata": {},
   "source": [
    "# Looping a List\n",
    "**Looping without index number**:\n",
    "```\n",
    "students = [\"April\", \"Ben\", \"Cathy\", \"Danny\", \"Eve\"]\n",
    "for student in students:\n",
    "    print(student)\n",
    "```\n",
    "\n",
    "**Looping with index number**:\n",
    "```\n",
    "students = [\"April\", \"Ben\", \"Cathy\", \"Danny\", \"Eve\"]\n",
    "for i in range(len(students)):\n",
    "    print(str(i) + \": \" + students[i])\n",
    "```"
   ]
  },
  {
   "cell_type": "code",
   "execution_count": 95,
   "metadata": {},
   "outputs": [
    {
     "name": "stdout",
     "output_type": "stream",
     "text": [
      "0: April\n",
      "1: Barry\n",
      "2: Benjamin\n",
      "3: Catherine\n",
      "4: Danny\n",
      "5: Eve\n",
      "6: Frankie\n"
     ]
    }
   ],
   "source": []
  },
  {
   "cell_type": "markdown",
   "metadata": {},
   "source": [
    "# Sort List\n",
    "Sort the list alphabetically:\n",
    "```\n",
    "students = [\"April\", \"Ben\", \"Cathy\", \"Danny\", \"Eve\"]\n",
    "students.sort()\n",
    "print(students)\n",
    "students.sort(reverse=True)\n",
    "print(students)\n",
    "```\n"
   ]
  },
  {
   "cell_type": "code",
   "execution_count": 98,
   "metadata": {},
   "outputs": [
    {
     "name": "stdout",
     "output_type": "stream",
     "text": [
      "['April', 'Ben', 'Cathy', 'Danny', 'Eve']\n",
      "['Eve', 'Danny', 'Cathy', 'Ben', 'April']\n"
     ]
    }
   ],
   "source": []
  },
  {
   "cell_type": "markdown",
   "metadata": {},
   "source": [
    "# Join List\n",
    "```\n",
    "list1 = ['a', 'b', 'c']\n",
    "list2 = ['d', 'e', 'f', 'g']\n",
    "list3 = list1 + list2\n",
    "print(list3)\n",
    "```"
   ]
  },
  {
   "cell_type": "code",
   "execution_count": 99,
   "metadata": {},
   "outputs": [
    {
     "name": "stdout",
     "output_type": "stream",
     "text": [
      "['a', 'b', 'c', 'd', 'e', 'f', 'g']\n"
     ]
    }
   ],
   "source": []
  },
  {
   "cell_type": "markdown",
   "metadata": {},
   "source": [
    "# More List Method\n",
    "- ```append()```\tAdds an element at the end of the list\n",
    "- ```clear()```\tRemoves all the elements from the list\n",
    "- ```copy()```\tReturns a copy of the list\n",
    "- ```count()```\tReturns the number of elements with the specified value\n",
    "- ```extend()```\tAdd the elements of a list (or any iterable), to the end of the current list\n",
    "- ```index()```\tReturns the index of the first element with the specified value\n",
    "- ```insert()```\tAdds an element at the specified position\n",
    "- ```pop()```\tRemoves the element at the specified position\n",
    "- ```remove()```\tRemoves the item with the specified value\n",
    "- ```reverse()```\tReverses the order of the list\n",
    "- ```sort()```\tSorts the list"
   ]
  },
  {
   "cell_type": "markdown",
   "metadata": {},
   "source": [
    "# for loop\n",
    "- A ```for``` loop is used for iterating over a sequence (that is either a list, a tuple, a dictionary, a set, or a string).\n",
    "- With the ```for``` loop we can execute a set of statements, once for each item in a list, tuple, set etc.\n",
    "\n",
    "**Example**:\n",
    "```\n",
    "students = [\"April\", \"Ben\", \"Cathy\", \"Danny\", \"Eve\"]\n",
    "for s in students:\n",
    "    print(s)\n",
    "```\n",
    "\n",
    "\n",
    "**Example 2**:\n",
    "```\n",
    "s = \"ABCDEFG\"\n",
    "for c in s:\n",
    "    print(c)\n",
    "```"
   ]
  },
  {
   "cell_type": "code",
   "execution_count": 101,
   "metadata": {},
   "outputs": [
    {
     "name": "stdout",
     "output_type": "stream",
     "text": [
      "A\n",
      "B\n",
      "C\n",
      "D\n",
      "E\n",
      "F\n",
      "G\n"
     ]
    }
   ],
   "source": []
  },
  {
   "cell_type": "markdown",
   "metadata": {},
   "source": [
    "# Functions\n",
    "- A function is a block of code which only runs when it is called.\n",
    "- You can pass data, known as parameters, into a function.\n",
    "- A function can return data as a result.\n",
    "\n",
    "Use ```def``` keyword to define fucntion\n",
    "\n",
    "**Example**:\n",
    "```\n",
    "def greet(to):\n",
    "    print(\"Hello, \" + to)\n",
    "```    "
   ]
  },
  {
   "cell_type": "code",
   "execution_count": 103,
   "metadata": {},
   "outputs": [
    {
     "name": "stdout",
     "output_type": "stream",
     "text": [
      "Hello,Peter\n",
      "Hello,John\n"
     ]
    }
   ],
   "source": []
  },
  {
   "cell_type": "markdown",
   "metadata": {},
   "source": [
    "# returns from function\n",
    "- To let a function return a value, use the return statement:\n",
    "\n",
    "```\n",
    "def square_value(number):\n",
    "    return number*number\n",
    "\n",
    "print(square_value(3))\n",
    "print(square_value(5))\n",
    "```"
   ]
  },
  {
   "cell_type": "code",
   "execution_count": 104,
   "metadata": {},
   "outputs": [
    {
     "name": "stdout",
     "output_type": "stream",
     "text": [
      "9\n",
      "25\n"
     ]
    }
   ],
   "source": []
  },
  {
   "cell_type": "markdown",
   "metadata": {},
   "source": [
    "# Exercise\n",
    "- Define a function name my_func to do the following mathematic calculation\n",
    "- It accepts three parameters: `a`, `b`, `c`\n",
    "\\\\[ 2a^3 + 5b^2 - 8c \\\\]\n",
    "\n",
    "```\n",
    "def my_func(a, b, c):\n",
    "    result = (2*(a**3)) + (5*(b**2)) - (8*c)\n",
    "    return result\n",
    "    \n",
    "print(my_func(1,1,1))\n",
    "print(my_func(2,3,4))\n",
    "```\n",
    "\n",
    "**Expected Result**:\n",
    "- my_func(1,1,1) -> -1\n",
    "- my_func(2,3,4) -> 29\n"
   ]
  },
  {
   "cell_type": "code",
   "execution_count": 116,
   "metadata": {},
   "outputs": [
    {
     "name": "stdout",
     "output_type": "stream",
     "text": [
      "-1\n",
      "29\n"
     ]
    }
   ],
   "source": []
  },
  {
   "cell_type": "markdown",
   "metadata": {},
   "source": [
    "# Dictionary\n",
    "- A dictionary is a collection which is unordered, changeable and indexed. \n",
    "- In Python dictionaries are written with curly brackets, and they have keys and values.\n",
    "\n",
    "**Create and print a dictionary**:\n",
    "```\n",
    "client = {\n",
    "    \"id\": 888,\n",
    "    \"company\": \"ABC Co.\",\n",
    "    \"email\": \"hello@abc.com\"\n",
    "}\n",
    "print(client)\n",
    "print(client[\"email\"])\n",
    "print(client.get(\"company\"))\n",
    "client[\"company\"] = \"XYZ Co.\"\n",
    "print(client)\n",
    "```"
   ]
  },
  {
   "cell_type": "code",
   "execution_count": 5,
   "metadata": {},
   "outputs": [
    {
     "name": "stdout",
     "output_type": "stream",
     "text": [
      "{'id': 888, 'company': 'ABC Co.', 'email': 'hello@abc.com'}\n",
      "hello@abc.com\n",
      "ABC Co.\n",
      "{'id': 888, 'company': 'XYZ Co.', 'email': 'hello@abc.com'}\n"
     ]
    }
   ],
   "source": []
  },
  {
   "cell_type": "markdown",
   "metadata": {},
   "source": [
    "# Loop Through a Dictionary\n",
    "Loop through a dictionary by using a ```for``` loop\n",
    "```\n",
    "client = {\n",
    "    \"id\": 888,\n",
    "    \"company\": \"ABC Co.\",\n",
    "    \"email\": \"hello@abc.com\"\n",
    "}\n",
    "```\n",
    "\n",
    "**Getting the key**:\n",
    "```\n",
    "for x in client:\n",
    "    print(x)\n",
    "```\n",
    "\n",
    "**Getting the values**:\n",
    "```\n",
    "for x in client.values():\n",
    "    print(x)\n",
    "```\n",
    "\n",
    "**Getting the keys and values**:\n",
    "```\n",
    "for key, value in client.items():\n",
    "    print(key, value)\n",
    "```"
   ]
  },
  {
   "cell_type": "code",
   "execution_count": 6,
   "metadata": {},
   "outputs": [
    {
     "name": "stdout",
     "output_type": "stream",
     "text": [
      "id 888\n",
      "company XYZ Co.\n",
      "email hello@abc.com\n"
     ]
    }
   ],
   "source": []
  },
  {
   "cell_type": "markdown",
   "metadata": {},
   "source": [
    "# Check if Key Exists\n",
    "To determine if a specified key is present in a dictionary use the in keyword:\n",
    "```\n",
    "client = {\n",
    "    \"id\": 888,\n",
    "    \"company\": \"ABC Co.\",\n",
    "    \"email\": \"hello@abc.com\"\n",
    "}\n",
    "if \"email\" in client:\n",
    "    print(\"email is in the Dictionaries\")\n",
    "```"
   ]
  },
  {
   "cell_type": "code",
   "execution_count": 7,
   "metadata": {},
   "outputs": [
    {
     "name": "stdout",
     "output_type": "stream",
     "text": [
      "email is in the Dictionaries\n"
     ]
    }
   ],
   "source": []
  },
  {
   "cell_type": "markdown",
   "metadata": {},
   "source": [
    "# Adding Items\n",
    "Adding an item to the dictionary is done by using a new index key and assigning a value to it\n",
    "```\n",
    "client = {\n",
    "    \"id\": 888,\n",
    "    \"company\": \"ABC Co.\",\n",
    "    \"email\": \"hello@abc.com\"\n",
    "}\n",
    "client[\"address\"] = \"Hong Kong\"\n",
    "print(client)\n",
    "```"
   ]
  },
  {
   "cell_type": "code",
   "execution_count": 8,
   "metadata": {},
   "outputs": [
    {
     "name": "stdout",
     "output_type": "stream",
     "text": [
      "{'id': 888, 'company': 'XYZ Co.', 'email': 'hello@abc.com', 'address': 'Hong Kong'}\n"
     ]
    }
   ],
   "source": []
  },
  {
   "cell_type": "markdown",
   "metadata": {},
   "source": [
    "# Reading JSON Data From the Web\n",
    "- You need to ues `urllib` and `json`\n",
    "- Let's try to read weather forecast from: https://data.weather.gov.hk/weatherAPI/opendata/weather.php?dataType=fnd&lang=tc\n",
    "- More information about weather data: https://www.hko.gov.hk/tc/abouthko/opendata_intro.htm\n",
    "\n",
    "**Example**:\n",
    "```\n",
    "import urllib.request, json \n",
    "endpoint = \"https://data.weather.gov.hk/weatherAPI/opendata/weather.php?dataType=fnd&lang=tc\"\n",
    "with urllib.request.urlopen(endpoint) as url:\n",
    "    response = json.loads(url.read().decode())\n",
    "    print(response)\n",
    "    print(response[\"generalSituation\"])\n",
    "    print(data[\"weatherForecast\"])\n",
    "    print(data[\"weatherForecast\"][0])\n",
    "```"
   ]
  },
  {
   "cell_type": "code",
   "execution_count": 4,
   "metadata": {},
   "outputs": [
    {
     "name": "stdout",
     "output_type": "stream",
     "text": [
      "東北季候風會在今日為廣東沿岸帶來清涼的天氣。預料季候風會在隨後數天緩和，該區多雲及有幾陣雨。受冬季季候風影響，下週初華南再度轉涼，氣溫顯著下降。\n"
     ]
    }
   ],
   "source": []
  }
 ],
 "metadata": {
  "kernelspec": {
   "display_name": "Python 3",
   "language": "python",
   "name": "python3"
  },
  "language_info": {
   "codemirror_mode": {
    "name": "ipython",
    "version": 3
   },
   "file_extension": ".py",
   "mimetype": "text/x-python",
   "name": "python",
   "nbconvert_exporter": "python",
   "pygments_lexer": "ipython3",
   "version": "3.8.5"
  }
 },
 "nbformat": 4,
 "nbformat_minor": 4
}
